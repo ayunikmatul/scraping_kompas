{
 "cells": [
  {
   "cell_type": "code",
   "execution_count": 1,
   "metadata": {},
   "outputs": [],
   "source": [
    "import requests\n",
    "from bs4 import BeautifulSoup\n",
    "import pandas as pd"
   ]
  },
  {
   "cell_type": "code",
   "execution_count": 61,
   "metadata": {},
   "outputs": [],
   "source": [
    "def generate_tgl(tgl_awal, tgl_akhir):\n",
    "    tgl_ambil=[]\n",
    "    for i in range(tgl_awal,tgl_akhir+1):\n",
    "        if i<10:\n",
    "            tgl_ambil.append('0'+str(i))\n",
    "        else:\n",
    "            tgl_ambil.append(str(i))\n",
    "    return tgl_ambil"
   ]
  },
  {
   "cell_type": "code",
   "execution_count": 62,
   "metadata": {},
   "outputs": [],
   "source": [
    "def scraping_compas(key, tgl_awal, tgl_akhir):\n",
    "    tgl_ambil=generate_tgl(tgl_awal, tgl_akhir)\n",
    "    key_tgl=['https://indeks.kompas.com/{}/2019-05-{}'.format(key, j) for j in tgl_ambil]\n",
    "    hasil=[]\n",
    "    for j in key_tgl:\n",
    "        req=requests.get(j)\n",
    "        soup=BeautifulSoup(req.text, 'lxml')\n",
    "        kumpulan_page=soup.find_all('div',class_='article__asset')\n",
    "        link_page=[kumpulan_page[i].a['href'] for i in range(len(kumpulan_page))]\n",
    "        for i in link_page:\n",
    "            item={}\n",
    "            req_berita=requests.get(i)\n",
    "            soup_berita=BeautifulSoup(req_berita.text, 'lxml')\n",
    "            item['judul']=soup_berita.find_all('title')[0].text\n",
    "            tgl=soup_berita.find_all('div', {'class':'read__time'})[0].text\n",
    "            item['tanggal']=tgl.split(',')[0].split('-')[1].replace(' ',\"\")\n",
    "            berita=soup_berita.find_all('div', {'class':'read__content'})[0]\n",
    "            item['paragrap']=berita.text.strip()\n",
    "            photo=soup_berita.find_all('div', {'class':'photo'})[0]\n",
    "            item['photo']=photo.img['src']\n",
    "            try:\n",
    "                item['Youtube']=berita.find('iframe')['src']\n",
    "            except: \n",
    "                item['Youtube']=None\n",
    "            hasil.append(item)\n",
    "    return hasil"
   ]
  },
  {
   "cell_type": "code",
   "execution_count": 63,
   "metadata": {},
   "outputs": [],
   "source": [
    "key='tekno'\n",
    "tgl_awal=6\n",
    "tgl_akhir=10\n",
    "df=pd.DataFrame(scraping_compas(key, tgl_awal, tgl_akhir))"
   ]
  },
  {
   "cell_type": "code",
   "execution_count": 64,
   "metadata": {},
   "outputs": [
    {
     "data": {
      "text/html": [
       "<div>\n",
       "<style scoped>\n",
       "    .dataframe tbody tr th:only-of-type {\n",
       "        vertical-align: middle;\n",
       "    }\n",
       "\n",
       "    .dataframe tbody tr th {\n",
       "        vertical-align: top;\n",
       "    }\n",
       "\n",
       "    .dataframe thead th {\n",
       "        text-align: right;\n",
       "    }\n",
       "</style>\n",
       "<table border=\"1\" class=\"dataframe\">\n",
       "  <thead>\n",
       "    <tr style=\"text-align: right;\">\n",
       "      <th></th>\n",
       "      <th>Youtube</th>\n",
       "      <th>judul</th>\n",
       "      <th>paragrap</th>\n",
       "      <th>photo</th>\n",
       "      <th>tanggal</th>\n",
       "    </tr>\n",
       "  </thead>\n",
       "  <tbody>\n",
       "    <tr>\n",
       "      <th>0</th>\n",
       "      <td>None</td>\n",
       "      <td>Menanti Android Q dan Pixel 3a di Google I/O 2019</td>\n",
       "      <td>KOMPAS.com - Google I/O merupakan sebuah ajang...</td>\n",
       "      <td>https://asset.kompas.com/crop/81x0:666x390/750...</td>\n",
       "      <td>06/05/2019</td>\n",
       "    </tr>\n",
       "    <tr>\n",
       "      <th>1</th>\n",
       "      <td>None</td>\n",
       "      <td>Dari Samsung hingga Oppo, Ini Deretan Ponsel 5...</td>\n",
       "      <td>KOMPAS.com - Teknologi jaringan  seluler gener...</td>\n",
       "      <td>https://asset.kompas.com/crop/0x0:940x627/750x...</td>\n",
       "      <td>06/05/2019</td>\n",
       "    </tr>\n",
       "    <tr>\n",
       "      <th>2</th>\n",
       "      <td>https://www.youtube.com/embed/bKNFooao3GA</td>\n",
       "      <td>Vivo S1 Pro Resmi Meluncur, Bedanya dengan S1 ...</td>\n",
       "      <td>KOMPAS.com -  Vivo kembali merilis seri baru d...</td>\n",
       "      <td>https://asset.kompas.com/crop/21x15:729x487/75...</td>\n",
       "      <td>06/05/2019</td>\n",
       "    </tr>\n",
       "    <tr>\n",
       "      <th>3</th>\n",
       "      <td>None</td>\n",
       "      <td>Indosat Ooredoo Tunjuk Ahmad Abdulaziz Al Neam...</td>\n",
       "      <td>KOMPAS.com -  Indosat Ooredoo resmi menunjuk A...</td>\n",
       "      <td>https://asset.kompas.com/crop/0x83:1000x750/75...</td>\n",
       "      <td>06/05/2019</td>\n",
       "    </tr>\n",
       "    <tr>\n",
       "      <th>4</th>\n",
       "      <td>None</td>\n",
       "      <td>DJI Siapkan Kamera Aksi Pesaing Go Pro?</td>\n",
       "      <td>KOMPAS.com - DJI dikenal sebagai pabrikan  dro...</td>\n",
       "      <td>https://asset.kompas.com/crop/65x0:882x545/750...</td>\n",
       "      <td>06/05/2019</td>\n",
       "    </tr>\n",
       "  </tbody>\n",
       "</table>\n",
       "</div>"
      ],
      "text/plain": [
       "                                     Youtube  \\\n",
       "0                                       None   \n",
       "1                                       None   \n",
       "2  https://www.youtube.com/embed/bKNFooao3GA   \n",
       "3                                       None   \n",
       "4                                       None   \n",
       "\n",
       "                                               judul  \\\n",
       "0  Menanti Android Q dan Pixel 3a di Google I/O 2019   \n",
       "1  Dari Samsung hingga Oppo, Ini Deretan Ponsel 5...   \n",
       "2  Vivo S1 Pro Resmi Meluncur, Bedanya dengan S1 ...   \n",
       "3  Indosat Ooredoo Tunjuk Ahmad Abdulaziz Al Neam...   \n",
       "4            DJI Siapkan Kamera Aksi Pesaing Go Pro?   \n",
       "\n",
       "                                            paragrap  \\\n",
       "0  KOMPAS.com - Google I/O merupakan sebuah ajang...   \n",
       "1  KOMPAS.com - Teknologi jaringan  seluler gener...   \n",
       "2  KOMPAS.com -  Vivo kembali merilis seri baru d...   \n",
       "3  KOMPAS.com -  Indosat Ooredoo resmi menunjuk A...   \n",
       "4  KOMPAS.com - DJI dikenal sebagai pabrikan  dro...   \n",
       "\n",
       "                                               photo     tanggal  \n",
       "0  https://asset.kompas.com/crop/81x0:666x390/750...  06/05/2019  \n",
       "1  https://asset.kompas.com/crop/0x0:940x627/750x...  06/05/2019  \n",
       "2  https://asset.kompas.com/crop/21x15:729x487/75...  06/05/2019  \n",
       "3  https://asset.kompas.com/crop/0x83:1000x750/75...  06/05/2019  \n",
       "4  https://asset.kompas.com/crop/65x0:882x545/750...  06/05/2019  "
      ]
     },
     "execution_count": 64,
     "metadata": {},
     "output_type": "execute_result"
    }
   ],
   "source": [
    "df.head()"
   ]
  },
  {
   "cell_type": "code",
   "execution_count": 65,
   "metadata": {},
   "outputs": [],
   "source": [
    "df.to_csv('berita_kompas.csv')"
   ]
  }
 ],
 "metadata": {
  "kernelspec": {
   "display_name": "Python 3",
   "language": "python",
   "name": "python3"
  },
  "language_info": {
   "codemirror_mode": {
    "name": "ipython",
    "version": 3
   },
   "file_extension": ".py",
   "mimetype": "text/x-python",
   "name": "python",
   "nbconvert_exporter": "python",
   "pygments_lexer": "ipython3",
   "version": "3.6.8"
  }
 },
 "nbformat": 4,
 "nbformat_minor": 2
}
